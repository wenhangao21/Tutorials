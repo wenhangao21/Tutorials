{
  "cells": [
    {
      "cell_type": "markdown",
      "source": [
        "## Simple Implementation: DeepONet"
      ],
      "metadata": {
        "id": "hLtzXJNs2MOK"
      }
    },
    {
      "cell_type": "markdown",
      "source": [
        "### Download Data"
      ],
      "metadata": {
        "id": "mRrYmqiedLQ7"
      }
    },
    {
      "cell_type": "code",
      "source": [
        "# !gdown --id 1SC1TEgwLhhqZ4eAzpcs_X-8Cde1-An-c    # Darcy from FNO, Li el al. 2021\n"
      ],
      "metadata": {
        "id": "-zKPPwghdMqD"
      },
      "execution_count": null,
      "outputs": []
    },
    {
      "cell_type": "markdown",
      "source": [
        "### Initilization"
      ],
      "metadata": {
        "id": "XYJuVBegcK-2"
      }
    },
    {
      "cell_type": "markdown",
      "source": [
        "1. Loading"
      ],
      "metadata": {
        "id": "pv4O9gnHgVrx"
      }
    },
    {
      "cell_type": "code",
      "source": [
        "from tqdm import tqdm\n",
        "import torch\n",
        "import torch.nn as nn\n",
        "import scipy\n",
        "import numpy as np\n",
        "import random\n",
        "from torch.utils.data import DataLoader\n",
        "from torch.optim import Adam\n",
        "from torch.optim.lr_scheduler import MultiStepLR, CosineAnnealingLR\n",
        "\n",
        "device = torch.device('cuda' if torch.cuda.is_available() else 'cpu')\n",
        "seed = 8848\n",
        "torch.manual_seed(seed)\n",
        "torch.cuda.manual_seed(seed)\n",
        "torch.cuda.manual_seed_all(seed)  # If using multi-GPU\n",
        "np.random.seed(seed)\n",
        "random.seed(seed)\n",
        "torch.backends.cudnn.deterministic = True\n",
        "torch.backends.cudnn.benchmark = False"
      ],
      "metadata": {
        "id": "LsTJU5VLco1l"
      },
      "execution_count": null,
      "outputs": []
    },
    {
      "cell_type": "markdown",
      "source": [
        "2. Helper functions/classes"
      ],
      "metadata": {
        "id": "4rtBVZuNgYkv"
      }
    },
    {
      "cell_type": "code",
      "source": [
        "class DenseNet(nn.Module):\n",
        "    \"\"\"\n",
        "    A fully connected neural network (MLP) with ReLU activations between layers, except the last one.\n",
        "    \"\"\"\n",
        "    def __init__(self, layers):\n",
        "        super(DenseNet, self).__init__()\n",
        "\n",
        "        self.n_layers = len(layers) - 1\n",
        "        assert self.n_layers >= 1\n",
        "        self.layers = nn.ModuleList()\n",
        "        for j in range(self.n_layers):\n",
        "            self.layers.append(nn.Linear(layers[j], layers[j+1]))\n",
        "            if j != self.n_layers - 1:\n",
        "                self.layers.append(nn.ReLU())\n",
        "\n",
        "    def forward(self, x):\n",
        "        for _, l in enumerate(self.layers):\n",
        "            x = l(x)\n",
        "        return x"
      ],
      "metadata": {
        "id": "XhRH2qFNcwvW"
      },
      "execution_count": null,
      "outputs": []
    },
    {
      "cell_type": "code",
      "source": [
        "class L2Loss(object):\n",
        "    \"\"\"Computes the relative L2 loss between two tensors without size averaging.\"\"\"\n",
        "    def __init__(self):\n",
        "        super(L2Loss, self).__init__()\n",
        "\n",
        "    def __call__(self, x, y):\n",
        "        num_examples = x.size()[0]\n",
        "        diff_norms = torch.norm(x.reshape(num_examples, -1) - y.reshape(num_examples, -1), p=2, dim=1)\n",
        "        y_norms = torch.norm(y.reshape(num_examples, -1), p=2, dim=1)\n",
        "        return torch.sum(diff_norms / y_norms)"
      ],
      "metadata": {
        "id": "yqX1WPyPj2Mk"
      },
      "execution_count": null,
      "outputs": []
    },
    {
      "cell_type": "code",
      "source": [
        "def torch2dgrid(num_x, num_y, bot=(0,0), top=(1,1)):\n",
        "    \"\"\"\n",
        "    Generates a 2D grid of points as a PyTorch tensor within the specified bounds.\n",
        "    \"\"\"\n",
        "    x_bot, y_bot = bot\n",
        "    x_top, y_top = top\n",
        "    x_arr = torch.linspace(x_bot, x_top, steps=num_x)\n",
        "    y_arr = torch.linspace(y_bot, y_top, steps=num_y)\n",
        "    xx, yy = torch.meshgrid(x_arr, y_arr, indexing='ij')\n",
        "    mesh = torch.stack([xx, yy], dim=2)\n",
        "    return mesh"
      ],
      "metadata": {
        "id": "4635_1affJ41"
      },
      "execution_count": null,
      "outputs": []
    },
    {
      "cell_type": "markdown",
      "source": [
        "3. reading and loading data"
      ],
      "metadata": {
        "id": "lJijBe3rgbLk"
      }
    },
    {
      "cell_type": "code",
      "source": [
        "# reading data\n",
        "data = scipy.io.loadmat('darcy.mat')\n",
        "a = data[\"coeff\"]\n",
        "u = data[\"sol\"]\n",
        "s = 49 # resolution of output data\n",
        "print(a.shape, u.shape)"
      ],
      "metadata": {
        "colab": {
          "base_uri": "https://localhost:8080/"
        },
        "id": "lLqUwbBqdrnw",
        "outputId": "8228b6e4-355c-495d-a442-9bf4e97b87f2"
      },
      "execution_count": null,
      "outputs": [
        {
          "output_type": "stream",
          "name": "stdout",
          "text": [
            "(1024, 49, 49) (1024, 49, 49)\n"
          ]
        }
      ]
    },
    {
      "cell_type": "code",
      "source": [
        "# loading data\n",
        "n_train = 896\n",
        "n_test = 128\n",
        "batch_size = 32\n",
        "a_train = torch.Tensor(a[:n_train]).to(device)\n",
        "u_train = torch.Tensor(u[:n_train]).to(device)\n",
        "a_test = torch.Tensor(a[-n_test:]).to(device)\n",
        "u_test = torch.Tensor(u[-n_test:]).to(device)\n",
        "dataloader = DataLoader(torch.utils.data.TensorDataset(a_train, u_train), batch_size=batch_size, shuffle=True)\n",
        "dataloader_test = DataLoader(torch.utils.data.TensorDataset(a_test, u_test), batch_size=batch_size, shuffle=False)\n",
        "\n",
        "# creating the output observation locations for the trunk\n",
        "grid = torch2dgrid(s, s, bot=(0, 0), top=(1, 1))\n",
        "grid = grid.reshape(-1, 2).to(device)\n",
        "\n",
        "a_num_points = s * s # number of observation/sensor points for the input\n",
        "d = 2 # dimension of the output function"
      ],
      "metadata": {
        "id": "PYRtuEoxeW8Y"
      },
      "execution_count": null,
      "outputs": []
    },
    {
      "cell_type": "code",
      "source": [
        "a_train.shape, u_train.shape, a_test.shape, u_test.shape"
      ],
      "metadata": {
        "colab": {
          "base_uri": "https://localhost:8080/"
        },
        "id": "r3kXu0WQyuSv",
        "outputId": "0d502f94-abe8-4dae-9e71-3a6b088d0211"
      },
      "execution_count": null,
      "outputs": [
        {
          "output_type": "execute_result",
          "data": {
            "text/plain": [
              "(torch.Size([896, 49, 49]),\n",
              " torch.Size([896, 49, 49]),\n",
              " torch.Size([128, 49, 49]),\n",
              " torch.Size([128, 49, 49]))"
            ]
          },
          "metadata": {},
          "execution_count": 132
        }
      ]
    },
    {
      "cell_type": "markdown",
      "source": [
        "### DeepONet and Training"
      ],
      "metadata": {
        "id": "Sv8C6TNLgddQ"
      }
    },
    {
      "cell_type": "markdown",
      "source": [
        "4. Define the DeepONet architecture"
      ],
      "metadata": {
        "id": "GRnCOOv6lP3t"
      }
    },
    {
      "cell_type": "code",
      "source": [
        "class DeepONet(nn.Module):\n",
        "    def __init__(self, branch_layer, trunk_layer):\n",
        "        super(DeepONet, self).__init__()\n",
        "        self.branch = DenseNet(branch_layer)\n",
        "        self.trunk = DenseNet(trunk_layer)\n",
        "\n",
        "    def forward(self, a, grid):\n",
        "        b = self.branch(a)\n",
        "        t = self.trunk(grid)\n",
        "        return torch.einsum('bp,np->bn', b, t)\n",
        "\n",
        "branch_layers = [250, 250, 250, 250, 250, 250, 250, 250]\n",
        "trunk_layers = [250, 250, 250, 250, 250, 250, 250, 250]\n",
        "model = DeepONet(branch_layer=[a_num_points] + branch_layers,\n",
        "                   trunk_layer=[d] + trunk_layers).to(device)"
      ],
      "metadata": {
        "id": "N9COZ_44gQPV"
      },
      "execution_count": null,
      "outputs": []
    },
    {
      "cell_type": "markdown",
      "source": [
        "5. training"
      ],
      "metadata": {
        "id": "_S7_VZJNhLFE"
      }
    },
    {
      "cell_type": "code",
      "source": [
        "optimizer = Adam(model.parameters(), lr=0.0001)\n",
        "scheduler = torch.optim.lr_scheduler.CosineAnnealingLR(optimizer, T_max=2000)\n",
        "epochs = range(2000)\n",
        "pbar = epochs\n",
        "pbar = tqdm(pbar, dynamic_ncols=True, smoothing=0.1)\n",
        "myloss = L2Loss()\n",
        "\n",
        "for e in pbar:\n",
        "    train_loss = 0.0\n",
        "    model.train()\n",
        "    for a, u in dataloader:\n",
        "        pred = model(a.reshape(batch_size, -1), grid)\n",
        "        loss = myloss(pred.reshape(batch_size, s, s), u)\n",
        "        model.zero_grad()\n",
        "        loss.backward()\n",
        "        optimizer.step()\n",
        "        train_loss += loss.item()\n",
        "    train_loss /= n_train\n",
        "    scheduler.step()\n",
        "\n",
        "    test_loss = 0.0\n",
        "    model.eval()\n",
        "    with torch.no_grad():\n",
        "        for a, u in dataloader_test:\n",
        "            pred = model(a.reshape(batch_size, -1), grid)\n",
        "            loss = myloss(pred.reshape(batch_size, s, s), u)\n",
        "            test_loss += loss.item()\n",
        "        test_loss /= n_test\n",
        "        scheduler.step()\n",
        "\n",
        "    pbar.set_description(\n",
        "        (\n",
        "            f'Epoch: {e}; Averaged train loss: {train_loss:.5f}; Averaged test loss: {test_loss:.5f}; '\n",
        "        )\n",
        "    )"
      ],
      "metadata": {
        "colab": {
          "base_uri": "https://localhost:8080/"
        },
        "id": "Eq1FRvMHhMYa",
        "outputId": "ba27e369-b485-42e3-d1b3-56f0249c9fe9"
      },
      "execution_count": null,
      "outputs": [
        {
          "output_type": "stream",
          "name": "stderr",
          "text": [
            "Epoch: 1999; Averaged train loss: 0.03224; Averaged test loss: 0.04368; : 100%|██████████| 2000/2000 [05:20<00:00,  6.24it/s]\n"
          ]
        }
      ]
    },
    {
      "cell_type": "markdown",
      "source": [
        "Note: This is a very simple implementation of DeepONet. More advanced designs can lead to much better performance."
      ],
      "metadata": {
        "id": "1vNg6mSl9Diy"
      }
    }
  ],
  "metadata": {
    "anaconda-cloud": {},
    "kernelspec": {
      "display_name": "Python 3",
      "name": "python3"
    },
    "language_info": {
      "codemirror_mode": {
        "name": "ipython",
        "version": 3
      },
      "file_extension": ".py",
      "mimetype": "text/x-python",
      "name": "python",
      "nbconvert_exporter": "python",
      "pygments_lexer": "ipython3",
      "version": "3.7.4"
    },
    "colab": {
      "provenance": [],
      "gpuType": "T4"
    },
    "accelerator": "GPU"
  },
  "nbformat": 4,
  "nbformat_minor": 0
}