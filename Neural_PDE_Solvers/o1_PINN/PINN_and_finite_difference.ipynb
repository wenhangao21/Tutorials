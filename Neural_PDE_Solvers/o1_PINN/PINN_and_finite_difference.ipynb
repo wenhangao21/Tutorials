{
  "cells": [
    {
      "cell_type": "markdown",
      "source": [
        "## PINN Solver: Simple 2D Poisson Equation"
      ],
      "metadata": {
        "id": "hLtzXJNs2MOK"
      }
    },
    {
      "cell_type": "markdown",
      "source": [
        "Consider a 2D Poisson's equation with Dirichlet boundary conditions:\n",
        "\\begin{eqnarray*}\n",
        "    \\Delta u(x, y) = f(x, y),& \\quad& \\text { in } \\Omega:=(0, 1) \\times (0, 1), \\\\\n",
        "    u(x, y) = g(x, y),& \\quad&  \\text { on } \\partial \\Omega,\n",
        "\\end{eqnarray*}\n",
        "where $\\Delta$ is the Laplacian operator, $f(x) = 5$, and $g(x, y) = 1$.\n",
        "\n",
        "(1)\n",
        "Approximate the solution using the residual model that we discussed in class. Helper functions and the network set-up is given. Your only task is to complete the traininig process. **You can complete this part in Google Colab if you do not have cuda-compatible GPUs or do not have Pytorch with cuda installed.**\n",
        "\n",
        "Graph the final solution (heatmap, contour plot, or 3D plot, whichever is fine).\n",
        "\n",
        "> Example Steps:\n",
        "1. Use a feedforward neural network (fully connected network) to approximate the solution $u(x, y)$.\n",
        "2. Sample Points in the domain and on the boundary, respectively.\n",
        "3. Calculate the Laplacian $\\Delta u(x, y)$ (second derivatives with respect to $x$ and $y$ ) using automatic differentiation.\n",
        "4. Define the loss function. The residual loss: LossPDE, which enforces $\\Delta u(x, y)=f(x, y)$ inside the domain. The boundary loss: $\\operatorname{Loss}_{\\mathrm{BC}}$, which ensures the boundary condition $u(x, y)=g(x, y)$ is satisfied on $\\partial \\Omega$.\n",
        "  - $\\operatorname{LossPDE~}=\\frac{1}{N_{\\text {int }}} \\sum_{i=1}^{N_{\\text {int }}}\\left(\\Delta u\\left(x_i, y_i\\right)-f\\left(x_i, y_i\\right)\\right)^2$\n",
        "  - $\\operatorname{Loss}_{\\mathrm{BC}}=\\frac{1}{N_{\\mathrm{bc}}} \\sum_{i=1}^{N_{\\mathrm{bc}}}\\left(u\\left(x_i, y_i\\right)-g\\left(x_i, y_i\\right)\\right)^2$\n",
        "5. Training the model to minimize the total loss, which is a combination of the residual and boundary losses."
      ],
      "metadata": {
        "id": "sotAPaoj2Uii"
      }
    },
    {
      "cell_type": "markdown",
      "source": [
        "## Part (1) Solve by PINN"
      ],
      "metadata": {
        "id": "ujNl6Ep6OZ1c"
      }
    },
    {
      "cell_type": "markdown",
      "source": [
        "### Implementation"
      ],
      "metadata": {
        "id": "3sE-Zd48tmo2"
      }
    },
    {
      "cell_type": "code",
      "source": [
        "import torch\n",
        "import torch.nn as nn\n",
        "import torch.nn.functional as F\n",
        "from torch import optim, autograd, tanh, Tensor\n",
        "import numpy as np\n",
        "from numpy import zeros, sum, sqrt, linspace, absolute\n",
        "from torch.nn.functional import relu\n",
        "import matplotlib.pyplot as plt\n",
        "\n",
        "torch.set_default_tensor_type('torch.cuda.DoubleTensor')\n",
        "torch.manual_seed(8848)\n",
        "np.random.seed(8848)\n",
        "\n",
        "class FNN(torch.nn.Module):\n",
        "    def __init__(self, m):\n",
        "        super(FNN, self).__init__()\n",
        "        self.layer1 = nn.Linear(2, m)\n",
        "        self.layer2 = nn.Linear(m, m)\n",
        "        self.layer3 = nn.Linear(m, 1)\n",
        "        self.activation = lambda x: tanh(x)\n",
        "\n",
        "    def forward(self, tensor_x_batch):\n",
        "        y = self.layer1(tensor_x_batch)\n",
        "        y = self.layer2(self.activation(y))\n",
        "        y = self.layer3(self.activation(y))\n",
        "        y = y.squeeze(0)\n",
        "        return y\n",
        "\n",
        "def get_testing_points():\n",
        "    y_coor = np.arange(0.01, 1, 0.01)\n",
        "    x_test_np = np.array([[x0, y0] for x0 in y_coor for y0 in y_coor])\n",
        "    x_test = Tensor(x_test_np)\n",
        "    x_test.requires_grad = False\n",
        "    return x_test\n",
        "\n",
        "def generate_points_in_the_domain(N_1):\n",
        "    return torch.rand(N_1, 2)\n",
        "\n",
        "def generate_points_on_the_boundary(N_2):\n",
        "    num = -(-N_2//4)  # get ceil of N_2/4,\n",
        "    zero_to_one = torch.rand(num, 1)\n",
        "    # x1-x4 for 4 sides of the square, each num points\n",
        "    x1 = torch.cat((zero_to_one, torch.zeros_like(zero_to_one)), dim=1)\n",
        "    x2 = torch.cat((zero_to_one, torch.ones_like(zero_to_one)), dim=1)\n",
        "    x3 = torch.cat((torch.ones_like(zero_to_one), zero_to_one ), dim=1)\n",
        "    x4 = torch.cat((torch.zeros_like(zero_to_one), zero_to_one ), dim=1)\n",
        "    x = torch.cat((x1, x2, x3, x4), dim=0)\n",
        "    return x\n",
        "\n",
        "# calculate nabla u\n",
        "def gradients(output, input):\n",
        "    return autograd.grad(outputs=output, inputs=input,\n",
        "                                grad_outputs=torch.ones_like(output),\n",
        "                                create_graph=True, retain_graph=True, only_inputs=True)[0]\n",
        "\n",
        "# some hyper-parameters\n",
        "n_epoch = 30001 # number of epochs  approximately 0.024 sec per epoch\n",
        "N_1 = 1024  # number of training points in the interior\n",
        "N_2 = 1024  # number of training points on the boundary, better divisible by 2^2 = 4\n",
        "\n",
        "m = 30  # number of nodes in each layer for the basic and error sampling\n",
        "d = 2  # dimension of the problem, which should be 2, do not change\n",
        "lr = 3e-3  # learning rates\n",
        "lambda_term = 1000  # boundary weighting term\n",
        "\n",
        "model = FNN(m)\n",
        "# model.apply(weights_init)\n",
        "optimizer = optim.Adam(model.parameters(), lr=lr)\n",
        "StepLR = torch.optim.lr_scheduler.StepLR(optimizer, step_size=30, gamma=0.99)\n",
        "for epoch in range(n_epoch):\n",
        "    # 1 for interior and 2 for boundary\n",
        "    x_1 = generate_points_in_the_domain(N_1)\n",
        "    x_2 = generate_points_on_the_boundary(N_2)\n",
        "    x_1.requires_grad_()\n",
        "    x_2.requires_grad_()\n",
        "    network_solution_1 = model(x_1)\n",
        "    network_solution_2 = model(x_2)\n",
        "    # get the partial derivatives\n",
        "    nabla = gradients(network_solution_1, x_1)\n",
        "    # uxx + uyy\n",
        "    delta = gradients(nabla[:, 0],x_1)[:, 0] + gradients(nabla[:, 1], x_1)[:, 1]\n",
        "    loss_1 = torch.mean(torch.square(delta - 5))\n",
        "    loss_2 = lambda_term * torch.mean(torch.square(network_solution_2 - 1))\n",
        "    loss = loss_1 + loss_2\n",
        "    optimizer.zero_grad()\n",
        "    loss.backward()\n",
        "    optimizer.step()\n",
        "    StepLR.step()\n",
        "    if epoch % 3000 == 0:\n",
        "         print('epoch:', epoch, 'loss:', loss.item(),\"\\n\")\n",
        "\n",
        "x = np.linspace(0, 1, 100)\n",
        "X, Y = np.meshgrid(x, x)  # X, Y grid\n",
        "positions = np.vstack([X.ravel(), Y.ravel()]).T\n",
        "net_solution = model(Tensor(positions))\n",
        "net_sol = net_solution.cpu().detach().numpy()"
      ],
      "metadata": {
        "colab": {
          "base_uri": "https://localhost:8080/"
        },
        "id": "Nsg7gXyaOp42",
        "outputId": "1a24a328-08bf-41a5-9d82-49055ac507f2"
      },
      "execution_count": null,
      "outputs": [
        {
          "output_type": "stream",
          "name": "stdout",
          "text": [
            "epoch: 0 loss: 1215.4577045713825 \n",
            "\n",
            "epoch: 3000 loss: 0.7967466585502294 \n",
            "\n",
            "epoch: 6000 loss: 0.3095500484461483 \n",
            "\n",
            "epoch: 9000 loss: 0.2043029740180931 \n",
            "\n",
            "epoch: 12000 loss: 0.1526829745893628 \n",
            "\n",
            "epoch: 15000 loss: 0.14269530534414537 \n",
            "\n",
            "epoch: 18000 loss: 0.13868785533645056 \n",
            "\n",
            "epoch: 21000 loss: 0.1284479044082428 \n",
            "\n",
            "epoch: 24000 loss: 0.13116926733248382 \n",
            "\n",
            "epoch: 27000 loss: 0.129920373169695 \n",
            "\n",
            "epoch: 30000 loss: 0.13169071844070093 \n",
            "\n"
          ]
        }
      ]
    },
    {
      "cell_type": "code",
      "source": [
        "plt.figure(figsize=(7,7))\n",
        "plot = plt.contourf(X,Y, net_sol.reshape((100,100)), cmap='rainbow')\n",
        "plt.gca().set_aspect('equal')\n",
        "plt.title('Plot of Solution')\n",
        "plt.xlabel('X Axis')\n",
        "plt.ylabel('Y Axis')\n",
        "plot.set_clim(0.6,1.1)\n",
        "plt.colorbar()\n"
      ],
      "metadata": {
        "colab": {
          "base_uri": "https://localhost:8080/",
          "height": 608
        },
        "id": "I8La7FMcfY7q",
        "outputId": "3b5dd280-439d-4065-8c03-ff6022564acb"
      },
      "execution_count": null,
      "outputs": [
        {
          "output_type": "execute_result",
          "data": {
            "text/plain": [
              "<matplotlib.colorbar.Colorbar at 0x7aacc24eded0>"
            ]
          },
          "metadata": {},
          "execution_count": 5
        },
        {
          "output_type": "display_data",
          "data": {
            "text/plain": [
              "<Figure size 700x700 with 2 Axes>"
            ],
            "image/png": "[encoded data removed]"
          },
          "metadata": {}
        }
      ]
    },
    {
      "cell_type": "markdown",
      "source": [
        "## Part (2) Solve by FDM to compare solutions"
      ],
      "metadata": {
        "id": "SvT08491tCZ-"
      }
    },
    {
      "cell_type": "markdown",
      "source": [
        "(2)\n",
        "Approximate the solution using Finite Difference Method with a grid-size $n =100$. The resulting linear system of equations $Au =b$ should be solved via Jacobi Method initialized with all 0s. The stoping criteria for Jacobi method is when $|u_{i,j}^{k+1} - u_{i,j}^{k}| < \\epsilon,~ \\forall i,j$. Use $\\epsilon = 10e-7$. (i.e., the difference between the updated values and the old values are small).\n",
        "\n",
        "Graph the final solution (heatmap, contour plot, or 3D plot, whichever is fine).\n",
        "\n",
        "> Example Steps:\n",
        "1. The unit square domain can be discretized as an $N \\times N$ grid:\n",
        "$$x_i = i\\cdot h,~ y_j = j\\cdot h,~i, j \\in[0, N],$$\n",
        "where the step size $h = dx = dy = \\frac{1}{N}$, and\n",
        "$$u_{i, j}=u\\left(x_i, y_j\\right), ~f_{i, j}=f\\left(x_i, y_j\\right) = 5.$$\n",
        "2. By central difference approximation:\n",
        "$$\\frac{u_{i+1, j}+u_{i-1, j}-2 u_{i, j}}{h^2}+\\frac{u_{i, j+1}+u_{i, j-1}-2 u_{i, j}}{h^2}=5$$.\n",
        "3. For all unknown $u_{i,j}, i, j \\in[1, N-1]$, we have a system of $(N-2)^2$ equations with $(N-2)^2$ unknown variables, which can be written in the form of $Au = b$.\n",
        "4. Solve the algebraic system numerical methods (Jacobi for this assignment).\n",
        "5. The element-based Jacobi updating formula for $u_i$ is:\n",
        "$$\n",
        "u_i^{(k+1)}=\\frac{1}{a_{i i}}\\left(b_i-\\sum_{j \\neq i} a_{i j} u_j^{(k)}\\right), \\quad i=1,2, \\ldots, n .\n",
        "$$\n",
        "\n",
        "Hint: The update rule for every grid point in the domain is the same so that you don't actually have to flatten $u$ and $b$ and construct the matrix $A$ although it is also okay to do so."
      ],
      "metadata": {
        "id": "sfbE1-aSZaNs"
      }
    },
    {
      "cell_type": "markdown",
      "source": [
        "### Implementation"
      ],
      "metadata": {
        "id": "928NVGGzqUEZ"
      }
    },
    {
      "cell_type": "code",
      "source": [
        "import numpy as np\n",
        "import matplotlib.pyplot as plt\n",
        "def jacobi(grid, f, dx):\n",
        "  # update rules\n",
        "    newgrid = np.ones(shape=grid.shape)\n",
        "\n",
        "    # apply evolution operator\n",
        "    newgrid[1:-1,1:-1] = 0.25 * (grid[1:-1,:-2] + grid[1:-1,2:] +\n",
        "                                 grid[:-2,1:-1] + grid[2:,1:-1] - f[1:-1,1:-1]*dx**2)\n",
        "    return newgrid\n",
        "\n",
        "def initgrid(gridsize):\n",
        "  # initialize the solution grid\n",
        "    u = np.zeros((gridsize,gridsize))\n",
        "    # boundary condition\n",
        "    u[0,:]  = 1\n",
        "    u[:,-1] = 1\n",
        "    u[-1,:] = 1\n",
        "    u[:,0]  = 1\n",
        "\n",
        "    return u\n",
        "\n",
        "n = 100  # grid-size\n",
        "u = initgrid(n)   # initial grid, n by n np array\n",
        "L = 1.0    # square bdy length\n",
        "dx = L/(n-1)   # FDM step size\n",
        "x = np.linspace(0, L, n)\n",
        "X, Y = np.meshgrid(x, x)  # X, Y grid\n",
        "f = 5*np.ones((n,n))   # RHS values, n by n np array\n",
        "epsilon = 1e-7\n",
        "iter = 0\n",
        "\n",
        "while True:\n",
        "    if iter % 500 ==0:\n",
        "        u_old = u\n",
        "    u = jacobi(u, f, dx)\n",
        "    # check this condition every 500 iterations\n",
        "    if iter % 500 == 0:\n",
        "        diff = np.absolute(u_old - u).max()\n",
        "        if diff < epsilon:\n",
        "            break\n",
        "    iter = iter + 1"
      ],
      "metadata": {
        "id": "BQc54DZGlVlo"
      },
      "execution_count": null,
      "outputs": []
    },
    {
      "cell_type": "code",
      "source": [
        "plt.figure(figsize=(7,7))\n",
        "plot = plt.contourf(X, Y, u,  cmap='rainbow')\n",
        "plt.gca().set_aspect('equal')\n",
        "plt.title('Plot of Solution')\n",
        "plt.xlabel('X Axis')\n",
        "plt.ylabel('Y Axis')\n",
        "plot.set_clim(0.6,1.1)\n",
        "plt.colorbar()"
      ],
      "metadata": {
        "colab": {
          "base_uri": "https://localhost:8080/",
          "height": 607
        },
        "id": "LmXHCJ2fFcBH",
        "outputId": "7bd12d41-7c11-452a-fec1-ddb129679f2e"
      },
      "execution_count": null,
      "outputs": [
        {
          "output_type": "execute_result",
          "data": {
            "text/plain": [
              "<matplotlib.colorbar.Colorbar at 0x7cae1114ea10>"
            ]
          },
          "metadata": {},
          "execution_count": 12
        },
        {
          "output_type": "display_data",
          "data": {
            "text/plain": [
              "<Figure size 700x700 with 2 Axes>"
            ],
            "image/png": "[encoded data removed]"
          },
          "metadata": {}
        }
      ]
    }
  ],
  "metadata": {
    "anaconda-cloud": {},
    "kernelspec": {
      "display_name": "Python 3",
      "name": "python3"
    },
    "language_info": {
      "codemirror_mode": {
        "name": "ipython",
        "version": 3
      },
      "file_extension": ".py",
      "mimetype": "text/x-python",
      "name": "python",
      "nbconvert_exporter": "python",
      "pygments_lexer": "ipython3",
      "version": "3.7.4"
    },
    "colab": {
      "provenance": [],
      "gpuType": "T4"
    },
    "accelerator": "GPU"
  },
  "nbformat": 4,
  "nbformat_minor": 0
}